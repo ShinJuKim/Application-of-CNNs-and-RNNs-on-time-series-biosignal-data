{
 "cells": [
  {
   "cell_type": "markdown",
   "metadata": {},
   "source": [
    "First step is preprocessing. For now, to begin, we will focus solely on S2, and on dividing the dictionary into segmented windows of 60s, with 30s of step/overlap (this could in theory be modified as a sort of data hyperparam)."
   ]
  },
  {
   "cell_type": "markdown",
   "metadata": {},
   "source": [
    "Preprocessing includes 3-97% winsorization, removing extreme values from data. It would also be beneficial for performance to downsample signals (700 Hz is far too much). For Respibann, all 700Hz signals can be downsampled. ECG to 70Hz, ACC & EMG to 10Hz, EDA & TEMP & RESP to 3.5 Hz. All Empatica sampling is reasonable enough without change. I am skipping the butterworth low-pass feature.\n",
    "\n",
    "Finally, I apply min-max normalization"
   ]
  },
  {
   "cell_type": "code",
   "execution_count": 35,
   "metadata": {},
   "outputs": [],
   "source": [
    "# first, open the pkl file\n",
    "import pickle\n",
    "import numpy as np\n",
    "\n",
    "subject = 2\n",
    "\n",
    "file_path = f\"WESAD/S{subject}/S{subject}.pkl\"\n",
    "with open(file_path, 'rb') as file:\n",
    "    data = pickle.load(file, encoding='latin1')"
   ]
  },
  {
   "cell_type": "code",
   "execution_count": 36,
   "metadata": {},
   "outputs": [
    {
     "name": "stdout",
     "output_type": "stream",
     "text": [
      "dict_keys(['ACC', 'ECG', 'EMG', 'EDA', 'Temp', 'Resp'])\n",
      "dict_keys(['ACC', 'BVP', 'EDA', 'TEMP'])\n",
      "4255300\n",
      "4255300\n"
     ]
    },
    {
     "data": {
      "text/plain": [
       "array([[ 0.02142334],\n",
       "       [ 0.02032471],\n",
       "       [ 0.01652527],\n",
       "       ...,\n",
       "       [-0.00544739],\n",
       "       [ 0.00013733],\n",
       "       [ 0.0040741 ]])"
      ]
     },
     "execution_count": 36,
     "metadata": {},
     "output_type": "execute_result"
    }
   ],
   "source": [
    "print(data['signal']['chest'].keys())\n",
    "print(data['signal']['wrist'].keys())\n",
    "print(len(data['label'])) # by default, labels are also sampled at 700 Hz.\n",
    "print(len(data['signal']['chest']['ECG']))\n",
    "data['signal']['chest']['ECG']"
   ]
  },
  {
   "cell_type": "code",
   "execution_count": 37,
   "metadata": {},
   "outputs": [
    {
     "name": "stdout",
     "output_type": "stream",
     "text": [
      "Old range for chest/ACC:\n",
      "[np.float64(-1.1354000568389893), np.float64(2.0297999382019043)]\n",
      "New range for chest/ACC:\n",
      "[np.float64(0.0), np.float64(1.0)]\n",
      "Old range for chest/ECG:\n",
      "[np.float64(-1.499542236328125), np.float64(1.4993133544921875)]\n",
      "New range for chest/ECG:\n",
      "[np.float64(0.0), np.float64(1.0)]\n",
      "Old range for chest/EMG:\n",
      "[np.float64(-0.4149627685546875), np.float64(0.3009796142578125)]\n",
      "New range for chest/EMG:\n",
      "[np.float64(0.0), np.float64(1.0)]\n",
      "Old range for chest/EDA:\n",
      "[np.float64(0.263214111328125), np.float64(7.576751708984375)]\n",
      "New range for chest/EDA:\n",
      "[np.float64(0.0), np.float64(1.0)]\n",
      "Old range for chest/Temp:\n",
      "[np.float32(28.045258), np.float32(34.37039)]\n",
      "New range for chest/Temp:\n",
      "[np.float32(0.0), np.float32(1.0)]\n",
      "Old range for chest/Resp:\n",
      "[np.float64(-27.90374755859375), np.float64(27.37884521484375)]\n",
      "New range for chest/Resp:\n",
      "[np.float64(0.0), np.float64(1.0)]\n",
      "Old range for wrist/ACC:\n",
      "[np.float64(-128.0), np.float64(127.0)]\n",
      "New range for wrist/ACC:\n",
      "[np.float64(0.0), np.float64(1.0)]\n",
      "Old range for wrist/BVP:\n",
      "[np.float64(-873.67), np.float64(988.08)]\n",
      "New range for wrist/BVP:\n",
      "[np.float64(0.0), np.float64(1.0)]\n",
      "Old range for wrist/EDA:\n",
      "[np.float64(0.045113), np.float64(1.717419)]\n",
      "New range for wrist/EDA:\n",
      "[np.float64(0.0), np.float64(1.0)]\n",
      "Old range for wrist/TEMP:\n",
      "[np.float64(32.31), np.float64(35.97)]\n",
      "New range for wrist/TEMP:\n",
      "[np.float64(0.0), np.float64(1.0)]\n"
     ]
    }
   ],
   "source": [
    "from scipy.stats import mstats\n",
    "\n",
    "#downsampling frequency factors\n",
    "downsampling_factor = {\n",
    "    \"chest/ECG\": 10,\n",
    "    \"chest/ACC\": 70,\n",
    "    \"chest/EMG\": 70,\n",
    "    \"chest/EDA\": 200,\n",
    "    \"chest/Temp\": 200,\n",
    "    \"chest/Resp\": 200,\n",
    "    \"wrist/ACC\": 4,\n",
    "    \"wrist/BVP\": 1,\n",
    "    \"wrist/EDA\": 1,\n",
    "    \"wrist/TEMP\": 1,\n",
    "}\n",
    "\n",
    "#3% winsorization + min-max normalization of signals in data\n",
    "def preprocess(arrayobj, device, signal):\n",
    "    arrayobj = mstats.winsorize(arrayobj, limits = [0.03,0.03])\n",
    "    arrayobj = arrayobj[::downsampling_factor[f\"{device}/{signal}\"]]\n",
    "    min_value, max_value = np.min(arrayobj), np.max(arrayobj)\n",
    "    arrayobj = (arrayobj - min_value) / (max_value - min_value)\n",
    "    return arrayobj\n",
    "\n",
    "\n",
    "for device in data['signal'].keys():\n",
    "    for signal in data['signal'][device].keys():\n",
    "        print(f\"Old range for {device}/{signal}:\")\n",
    "        print([np.min(data['signal'][device][signal]), np.max(data['signal'][device][signal])])\n",
    "        data['signal'][device][signal] = preprocess(data['signal'][device][signal], device, signal)\n",
    "        print(f\"New range for {device}/{signal}:\")\n",
    "        print([np.min(data['signal'][device][signal]), np.max(data['signal'][device][signal])])"
   ]
  },
  {
   "cell_type": "code",
   "execution_count": 38,
   "metadata": {},
   "outputs": [
    {
     "name": "stdout",
     "output_type": "stream",
     "text": [
      "4255300\n",
      "[2142701  800800  430500  253400  537599       0   45500   44800]\n"
     ]
    }
   ],
   "source": [
    "print(len(data['label']))\n",
    "print(np.bincount(data['label']))\n"
   ]
  },
  {
   "cell_type": "markdown",
   "metadata": {},
   "source": [
    "Now the task is to divide the data and labels into windows, and then save the windows to a python list object, which can then be pickled for easy reloading later."
   ]
  },
  {
   "cell_type": "code",
   "execution_count": 20,
   "metadata": {},
   "outputs": [
    {
     "name": "stdout",
     "output_type": "stream",
     "text": [
      "done\n"
     ]
    }
   ],
   "source": [
    "windows = []\n",
    "frequencies = {\n",
    "    \"chest/ECG\": 70,\n",
    "    \"chest/ACC\": 10,\n",
    "    \"chest/EMG\": 10,\n",
    "    \"chest/EDA\": 3.5,\n",
    "    \"chest/Temp\": 3.5,\n",
    "    \"chest/Resp\": 3.5,\n",
    "    \"wrist/ACC\": 8,\n",
    "    \"wrist/BVP\": 64,\n",
    "    \"wrist/EDA\": 4,\n",
    "    \"wrist/TEMP\": 4,\n",
    "    \n",
    "}\n",
    "\n",
    "# labels are collected at frequency of 700, so we are looking to divide into windows of 60 * 700 and steps of 30 * 700 Hz\n",
    "\n",
    "labelfreq = 700\n",
    "windowsize = 60\n",
    "windowstep = 30\n",
    "\n",
    "for i in range((len(data[\"label\"]) // (windowstep * labelfreq)) - 2):\n",
    "    datawindow = {}\n",
    "    datawindow['signal'] = {}\n",
    "    for device in data['signal'].keys():\n",
    "        datawindow['signal'][device] = {}\n",
    "        for signal in data['signal'][device].keys():\n",
    "            \n",
    "\n",
    "            fkey = f\"{device}/{signal}\"\n",
    "            datawindow['signal'][device][signal] = np.array(data['signal'][device][signal][int(i \n",
    "                                    * frequencies[fkey] * windowstep):int(i * frequencies[fkey] * windowstep + frequencies[fkey] * windowsize)])\n",
    "    # print(i)\n",
    "    \n",
    "    labels = data['label'][int(i * labelfreq * windowstep): int(i * labelfreq * windowstep + windowsize * labelfreq)]\n",
    "    # print(labels)\n",
    "    # print(np.bincount(labels))\n",
    "    label = np.bincount(labels).argmax() # finds the most common element of an integer array\n",
    "    \n",
    "    datawindow['label'] = label\n",
    "    if (label in [0, 4, 5, 6, 7]): # ignoring labels 0, 5, 6, 7. May consider removing label 4 as well, as I usually do not see meditation considered.\n",
    "        continue\n",
    "\n",
    "\n",
    "    datawindow['subject'] = data['subject']\n",
    "    windows.append(datawindow)\n",
    "print(\"done\")\n"
   ]
  },
  {
   "cell_type": "code",
   "execution_count": 21,
   "metadata": {},
   "outputs": [
    {
     "name": "stdout",
     "output_type": "stream",
     "text": [
      "1\n",
      "1\n",
      "1\n",
      "1\n",
      "1\n",
      "1\n",
      "1\n",
      "1\n",
      "1\n",
      "1\n",
      "1\n",
      "1\n",
      "1\n",
      "1\n",
      "1\n",
      "1\n",
      "1\n",
      "1\n",
      "1\n",
      "1\n",
      "1\n",
      "1\n",
      "1\n",
      "1\n",
      "1\n",
      "1\n",
      "1\n",
      "1\n",
      "1\n",
      "1\n",
      "1\n",
      "1\n",
      "1\n",
      "1\n",
      "1\n",
      "1\n",
      "1\n",
      "1\n",
      "2\n",
      "2\n",
      "2\n",
      "2\n",
      "2\n",
      "2\n",
      "2\n",
      "2\n",
      "2\n",
      "2\n",
      "2\n",
      "2\n",
      "2\n",
      "2\n",
      "2\n",
      "2\n",
      "2\n",
      "2\n",
      "2\n",
      "2\n",
      "2\n",
      "3\n",
      "3\n",
      "3\n",
      "3\n",
      "3\n",
      "3\n",
      "3\n",
      "3\n",
      "3\n",
      "3\n",
      "3\n",
      "3\n"
     ]
    }
   ],
   "source": [
    "for datawindow in windows:\n",
    "    print(int(datawindow['label']))"
   ]
  },
  {
   "cell_type": "code",
   "execution_count": 22,
   "metadata": {},
   "outputs": [
    {
     "name": "stdout",
     "output_type": "stream",
     "text": [
      "List has been pickled and saved to f'windows/S{subject}windows.pkl'.\n"
     ]
    }
   ],
   "source": [
    "with open(f'windows/S{subject}windows.pkl', 'wb') as file:\n",
    "    pickle.dump(windows, file)\n",
    "\n",
    "print(\"List has been pickled and saved to f'windows/S{subject}windows.pkl'.\")"
   ]
  },
  {
   "cell_type": "markdown",
   "metadata": {},
   "source": [
    "Now, each window is stored as a dictionary in the .pkl file corresponding to the subject. This window data can be opened and used in training. For the data of more subjects, just change the subject variable"
   ]
  },
  {
   "cell_type": "markdown",
   "metadata": {},
   "source": [
    "Below is a loop to create a pkl list for all windows across all subjects."
   ]
  },
  {
   "cell_type": "code",
   "execution_count": 39,
   "metadata": {},
   "outputs": [
    {
     "name": "stdout",
     "output_type": "stream",
     "text": [
      "done\n",
      "done\n",
      "done\n",
      "done\n",
      "done\n",
      "done\n",
      "done\n",
      "done\n",
      "done\n",
      "done\n",
      "done\n",
      "done\n",
      "done\n",
      "done\n",
      "done\n",
      "List has been pickled and saved to f'allwindows.pkl'.\n"
     ]
    }
   ],
   "source": [
    "import pickle\n",
    "import numpy as np\n",
    "from scipy.stats import mstats\n",
    "\n",
    "\n",
    "subjects = [2, 3, 4, 5, 6, 7, 8, 9, 10, 11, 13, 14, 15, 16, 17]\n",
    "windows = []\n",
    "\n",
    "for subject in subjects:\n",
    "\n",
    "    file_path = f\"WESAD/S{subject}/S{subject}.pkl\"\n",
    "    with open(file_path, 'rb') as file:\n",
    "        data = pickle.load(file, encoding='latin1')\n",
    "    \n",
    "    downsampling_factor = {\n",
    "        \"chest/ECG\": 10,\n",
    "        \"chest/ACC\": 70,\n",
    "        \"chest/EMG\": 70,\n",
    "        \"chest/EDA\": 200,\n",
    "        \"chest/Temp\": 200,\n",
    "        \"chest/Resp\": 200,\n",
    "        \"wrist/ACC\": 4,\n",
    "        \"wrist/BVP\": 1,\n",
    "        \"wrist/EDA\": 1,\n",
    "        \"wrist/TEMP\": 1,\n",
    "    }\n",
    "\n",
    "    #3% winsorization + min-max normalization of signals in data\n",
    "    def preprocess(arrayobj, device, signal):\n",
    "        arrayobj = mstats.winsorize(arrayobj, limits = [0.03,0.03])\n",
    "        arrayobj = arrayobj[::downsampling_factor[f\"{device}/{signal}\"]]\n",
    "        min_value, max_value = np.min(arrayobj), np.max(arrayobj)\n",
    "        arrayobj = (arrayobj - min_value) / (max_value - min_value)\n",
    "        return arrayobj\n",
    "\n",
    "\n",
    "    for device in data['signal'].keys():\n",
    "        for signal in data['signal'][device].keys():\n",
    "            # print(f\"Old range for {device}/{signal}:\")\n",
    "            # print([np.min(data['signal'][device][signal]), np.max(data['signal'][device][signal])])\n",
    "            data['signal'][device][signal] = preprocess(data['signal'][device][signal], device, signal)\n",
    "            # print(f\"New range for {device}/{signal}:\")\n",
    "            # print([np.min(data['signal'][device][signal]), np.max(data['signal'][device][signal])])\n",
    "    \n",
    "    frequencies = {\n",
    "        \"chest/ECG\": 70,\n",
    "        \"chest/ACC\": 10,\n",
    "        \"chest/EMG\": 10,\n",
    "        \"chest/EDA\": 3.5,\n",
    "        \"chest/Temp\": 3.5,\n",
    "        \"chest/Resp\": 3.5,\n",
    "        \"wrist/ACC\": 8,\n",
    "        \"wrist/BVP\": 64,\n",
    "        \"wrist/EDA\": 4,\n",
    "        \"wrist/TEMP\": 4,\n",
    "        \n",
    "    }\n",
    "\n",
    "    # labels are collected at frequency of 700, so we are looking to divide into windows of 60 * 700 and steps of 30 * 700 Hz\n",
    "\n",
    "    labelfreq = 700\n",
    "    # in seconds\n",
    "    windowsize = 60\n",
    "    windowstep = 30\n",
    "\n",
    "    for i in range((len(data[\"label\"]) // (windowstep * labelfreq)) - 2):\n",
    "        datawindow = {}\n",
    "        datawindow['signal'] = {}\n",
    "        for device in data['signal'].keys():\n",
    "            datawindow['signal'][device] = {}\n",
    "            for signal in data['signal'][device].keys():\n",
    "                \n",
    "\n",
    "                fkey = f\"{device}/{signal}\"\n",
    "                datawindow['signal'][device][signal] = np.array(data['signal'][device][signal][int(i * frequencies[fkey] * windowstep):\n",
    "                                                                                               int(i * frequencies[fkey] * windowstep + \n",
    "                                                                                                   frequencies[fkey] \n",
    "                                                                                                   * windowsize)])\n",
    "        # print(i)\n",
    "        \n",
    "        labels = data['label'][int(i * labelfreq * windowstep): int(i * labelfreq * windowstep + windowsize * labelfreq)]\n",
    "        # print(labels)\n",
    "        # print(np.bincount(labels))\n",
    "        label = np.bincount(labels).argmax() # finds the most common element of an integer array\n",
    "        \n",
    "        datawindow['label'] = label\n",
    "        if (label in [0, 4, 5, 6, 7]): # ignoring labels 0, 5, 6, 7. May consider removing label 4 as well, as I usually do not see meditation considered.\n",
    "            continue\n",
    "\n",
    "\n",
    "        datawindow['subject'] = data['subject']\n",
    "        windows.append(datawindow)\n",
    "    print(\"done\")\n",
    "    \n",
    "with open(f'allwindows.pkl', 'wb') as file:\n",
    "    pickle.dump(windows, file)\n",
    "\n",
    "print(\"List has been pickled and saved to f'allwindows.pkl'.\")"
   ]
  },
  {
   "cell_type": "code",
   "execution_count": 40,
   "metadata": {},
   "outputs": [
    {
     "name": "stdout",
     "output_type": "stream",
     "text": [
      "3320\n"
     ]
    }
   ],
   "source": [
    "print(len(windows)) # 1105 training windows that fall into 1 of the 3 classes"
   ]
  },
  {
   "cell_type": "code",
   "execution_count": 41,
   "metadata": {},
   "outputs": [
    {
     "name": "stdout",
     "output_type": "stream",
     "text": [
      "1761\n",
      "1000\n",
      "559\n"
     ]
    }
   ],
   "source": [
    "amusement = 0\n",
    "stress = 0\n",
    "baseline = 0\n",
    "for window in windows:\n",
    "    if (window['label'] == 1.):\n",
    "        baseline += 1\n",
    "    elif (window['label'] == 2.):\n",
    "        stress += 1\n",
    "    else:\n",
    "        amusement += 1\n",
    "\n",
    "print(baseline)\n",
    "print(stress)\n",
    "print(amusement)"
   ]
  },
  {
   "cell_type": "code",
   "execution_count": null,
   "metadata": {},
   "outputs": [],
   "source": []
  }
 ],
 "metadata": {
  "kernelspec": {
   "display_name": "venv",
   "language": "python",
   "name": "python3"
  },
  "language_info": {
   "codemirror_mode": {
    "name": "ipython",
    "version": 3
   },
   "file_extension": ".py",
   "mimetype": "text/x-python",
   "name": "python",
   "nbconvert_exporter": "python",
   "pygments_lexer": "ipython3",
   "version": "3.12.1"
  }
 },
 "nbformat": 4,
 "nbformat_minor": 2
}
